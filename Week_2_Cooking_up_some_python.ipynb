{
  "nbformat": 4,
  "nbformat_minor": 0,
  "metadata": {
    "colab": {
      "provenance": [],
      "authorship_tag": "ABX9TyOGg0WqKGtPtTLYwtQ1Tu2F"
    },
    "kernelspec": {
      "name": "python3",
      "display_name": "Python 3"
    },
    "language_info": {
      "name": "python"
    }
  },
  "cells": [
    {
      "cell_type": "markdown",
      "source": [
        "*Version saved on Google MyDrive for Blackboard and Github*\n",
        "https://github.com/J-a-son/TRP479_2023_2024"
      ],
      "metadata": {
        "id": "eZ7Ro5pj11rA"
      }
    },
    {
      "cell_type": "markdown",
      "source": [
        "## Sources\n",
        "This exercise was set by [Ruth Hamilton](https://github.com/ruth-ham) as part of the University of Sheffield Spatial Data Science for social sciences module TRP479 completed by Jason Clarke 2024"
      ],
      "metadata": {
        "id": "qadPg-Sy_F4P"
      }
    },
    {
      "cell_type": "markdown",
      "source": [
        "# Exercise 1: Cooking up some Python\n",
        "\n",
        "*In the “[Taste of Python](https://colab.research.google.com/drive/1oQPTHVtNuP0h1ZWdwhczKQBTfrOPuqdp?usp=sharing)” lesson this week we have learned a few basic things in Python. Now you get your chance to demonstrate your skills.*\n",
        "\n",
        "*This exercise is inspired by an analysis that determined Finland is the world's happiest country.  We are going to use a different way to assess the individual happiness of people in England (particularly those taking this course!), and we're going to test our idea with you. In five easy steps (or problems) we'll be able to reveal your happiness based on two of life's most important happiness factors: Ice cream and sleep!*:"
      ],
      "metadata": {
        "id": "xOdYIb1h2Jx5"
      }
    },
    {
      "cell_type": "markdown",
      "source": [
        "## Problem 0 - Create your own Google Colab notebook\n",
        "Open one of the notebooks you’ve used in this lab and create a new notebook."
      ],
      "metadata": {
        "id": "AvcuzWTG2Jp5"
      }
    },
    {
      "cell_type": "markdown",
      "source": [
        "## Problem 1 - Defining some variables\n",
        "In the top cell of the new notebook:\n",
        "•\tCreate a variable called ice_cream_rating and use it to store an integer value (whole number) between 0 and 10 that reflects your general opinion about how much you enjoy eating ice cream.\n",
        "•\tCreate another variable called sleeping_rating and use it to store another integer between 0 and 10 that reflects your opinion about how much you enjoy sleeping.\n",
        "•\tRun the cell by pressing Shift-Enter."
      ],
      "metadata": {
        "id": "NnG_6F-q2JiC"
      }
    },
    {
      "cell_type": "code",
      "source": [
        "# @title How much do you like Ice_cream?:\n",
        "ice_cream = \"8\" # @param [0,1,2,3,4,5,6,7,8,9,10]\n",
        "\n",
        "if ice_cream == \"10\":\n",
        "  print('wow you really like ice cream')\n",
        "else:\n",
        "   print('Ice Cream tastes better in a cola float')"
      ],
      "metadata": {
        "colab": {
          "base_uri": "https://localhost:8080/"
        },
        "id": "hlDv85Ag241g",
        "outputId": "1fdab3de-8741-4ff0-ca1e-807cc163429f"
      },
      "execution_count": null,
      "outputs": [
        {
          "output_type": "stream",
          "name": "stdout",
          "text": [
            "Ice Cream tastes better in a cola float\n"
          ]
        }
      ]
    },
    {
      "cell_type": "code",
      "source": [
        "# @title How much do you like Sleeping?:\n",
        "sleeping_rating = 10 # @param [0,1,2,3,4,5,6,7,8,9,10]\n",
        "\n",
        "if sleeping_rating == \"0\":\n",
        "  print('You can sleep when you are dead')\n",
        "else:\n",
        "   print('Does the code make you drift off?')\n"
      ],
      "metadata": {
        "colab": {
          "base_uri": "https://localhost:8080/"
        },
        "id": "Lbj4Dw8wCirs",
        "outputId": "dc75d9ad-ef94-4156-9b5e-0f46c72f3a13"
      },
      "execution_count": null,
      "outputs": [
        {
          "output_type": "stream",
          "name": "stdout",
          "text": [
            "Does the code make you drift off?\n"
          ]
        }
      ]
    },
    {
      "cell_type": "markdown",
      "source": [
        "## Problem 2 - Reading in variable values\n",
        "In the new cell that appears:\n",
        "•\tUse the input() function to prompt the user to enter their first name and store it in a variable called first_name.\n",
        "•\tUse the input() function again to prompt the user to enter their last name and store it in a variable called last_name.\n",
        "•\tDefine a third variable called my_name that will combine the user's first and last names into a single character string with a space between the names.\n",
        "•\tRun the cell and enter the requested information at the prompts."
      ],
      "metadata": {
        "id": "5PzHR-wc2JY6"
      }
    },
    {
      "cell_type": "code",
      "source": [
        "first_name = input('What is your first name?')\n",
        "last_name = input('What is your last name?')\n",
        "my_name = first_name + \" \" + last_name\n",
        "\n",
        "print(\"hello\", my_name ,\"!\")"
      ],
      "metadata": {
        "colab": {
          "base_uri": "https://localhost:8080/"
        },
        "id": "nh3Gp1WI4Jao",
        "outputId": "fc5bc980-2e30-4a0a-9b5f-0e582b79baa4"
      },
      "execution_count": null,
      "outputs": [
        {
          "output_type": "stream",
          "name": "stdout",
          "text": [
            "What is your first name?Jason\n",
            "What is your last name?Clarke\n",
            "hello Jason Clarke !\n"
          ]
        }
      ]
    },
    {
      "cell_type": "markdown",
      "source": [
        "\n",
        "## Problem 3 - A bit of math\n",
        "In order to assess happiness it is necessary to combine the ice cream and sleeping ratings. To do this:\n",
        "\n",
        "•\tCalculate the average of your ice_cream_rating and sleeping_rating variables and store the resulting value in a variable called happiness_rating.\n",
        "•\tRun the cell by pressing Shift-Enter.\n"
      ],
      "metadata": {
        "id": "ciw67cg82JJy"
      }
    },
    {
      "cell_type": "code",
      "source": [
        "happiness_rating = (ice_cream + sleeping_rating)/2\n",
        "print(happiness_rating)"
      ],
      "metadata": {
        "colab": {
          "base_uri": "https://localhost:8080/"
        },
        "id": "w4pvJqB45pvg",
        "outputId": "7cfc9c83-2bfc-41e3-b699-70426fd6a7ba"
      },
      "execution_count": null,
      "outputs": [
        {
          "output_type": "stream",
          "name": "stdout",
          "text": [
            "10.0\n"
          ]
        }
      ]
    },
    {
      "cell_type": "markdown",
      "source": [
        "## Problem 4 - Checking data types\n",
        "The next step is to investigate the kinds of data we're working with. In another Python cell:\n",
        "•\tUse a built-in Python function to check the data types of the ice_cream_rating, first_name, and happiness_rating variables. In order to see the data types for more than one variable in a single Python cell, you will need to print out these values using another built-in Python function.\n",
        "•\tRun the cell by pressing Shift-Enter.\n",
        "\n",
        "Did all of the data types make sense? Were there any data types that were different than you expected?\n",
        "•\tCreate a Text cell and enter your responses to the questions above.\n",
        "In Google Colab, ‘Text’ cells are formatted using a simple markup language called Markdown. To see the Markdown source, double-click a text cell, and you can see both the Markdown source and the rendered version. Above the Markdown source there is a toolbar to assist editing.\n",
        "•\tRun the Markdown cell by pressing Shift-Enter.\n"
      ],
      "metadata": {
        "id": "7faY3QL82XO7"
      }
    },
    {
      "cell_type": "code",
      "source": [
        "print(\"Ice Cream Variable type:\",type(ice_cream))\n",
        "print(\"First Name Variable type:\",type(first_name))\n",
        "print(\"Happiness Variable type:\",type(happiness_rating))"
      ],
      "metadata": {
        "colab": {
          "base_uri": "https://localhost:8080/"
        },
        "id": "nm4GCYPJ5_ax",
        "outputId": "98f534e6-b2a4-4324-edd5-883776550d03"
      },
      "execution_count": null,
      "outputs": [
        {
          "output_type": "stream",
          "name": "stdout",
          "text": [
            "Ice Cream Variable type: <class 'int'>\n",
            "First Name Variable type: <class 'str'>\n",
            "Happiness Variable type: <class 'float'>\n"
          ]
        }
      ]
    },
    {
      "cell_type": "markdown",
      "source": [
        "*The variable types selected are indicative of the nature of the functions that were used where they were first called. This is covered in A Taste of Python linked above.*"
      ],
      "metadata": {
        "id": "kbcqTuh86mUn"
      }
    },
    {
      "cell_type": "markdown",
      "source": [
        "## Problem 5 - Displaying text on the screen\n",
        "Finally, you can use your Python skills to generate output on the screen similar to that below. Use one command to generate each line of output.\n",
        "\n",
        "4\tMy name is Ruth and I give eating ice cream a score of 9 out of 10!\n",
        "4\tI am Ruth Hamilton and my sleeping enjoyment rating is 8 / 10!\n",
        "4\tBased on the factors above, my happiness rating is 8.5 out of 10, or 85.0 %!\n",
        "Note that your code should replace the items in bold text with the contents of the relevant variables (first_name , ice_cream_rating, etc). For your equivalent text with the full name (e.g., \"Ruth Hamilton\"), you can either use the values from the variables first_name and last_name, or the value in variable my_name.\n",
        "\n",
        "\n"
      ],
      "metadata": {
        "id": "Ygn8XOmC0dIw"
      }
    },
    {
      "cell_type": "code",
      "source": [
        "print(\"My name is \",my_name,\"and I give eating ice cream a score of\",ice_cream,\"out of 10!\")\n",
        "print(\"I am \",my_name,\"and my sleeping enjoyment rating is\", sleeping_rating, \"/ 10!\")\n",
        "print(\"Based on the factors above, my happiness rating is \", happiness_rating, \"out of 10, or \",happiness_rating*10,\"%!\" )"
      ],
      "metadata": {
        "colab": {
          "base_uri": "https://localhost:8080/"
        },
        "id": "lCeDDIGE9M7-",
        "outputId": "0b3b7b54-1e27-4a21-afe6-247cc3172c82"
      },
      "execution_count": null,
      "outputs": [
        {
          "output_type": "stream",
          "name": "stdout",
          "text": [
            "My name is  Jason Clarke and I give eating ice cream a score of 10 out of 10!\n",
            "I am  Jason Clarke and my sleeping enjoyment rating is 10 / 10!\n",
            "Based on the factors above, my happiness rating is  10.0 out of 10, or  100.0 %!\n"
          ]
        }
      ]
    }
  ]
}